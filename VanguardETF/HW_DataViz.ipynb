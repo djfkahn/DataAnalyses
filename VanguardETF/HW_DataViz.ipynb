{
 "cells": [
  {
   "cell_type": "markdown",
   "metadata": {},
   "source": [
    "You will have to import five different datasets. Each one is an exchange traded fund (etf) offered by Vanguard that hold a collection of securities (stocks). You could technically buy one of these and own all the businesses that are part of that etf. Pretty cool.\n",
    "\n",
    "The composition of each etf is market capitalization weighted. That means that the bigger the company is in terms of market value (think Apple with its trillion dollar market cap), the more of your dollars that you invest in that etf goes to this one stock. That is shown below."
   ]
  },
  {
   "cell_type": "markdown",
   "metadata": {},
   "source": [
    "![Large companies dominate...](large-companies-dominate-total-stock-market-index.png)"
   ]
  },
  {
   "cell_type": "markdown",
   "metadata": {},
   "source": [
    "But you don't want that. What you want is this..."
   ]
  },
  {
   "cell_type": "markdown",
   "metadata": {},
   "source": [
    "![A more proportional portfolio...](spreading-your-dollars-across-all-size-companies.png)"
   ]
  },
  {
   "cell_type": "markdown",
   "metadata": {},
   "source": [
    "Let's explore one of those etfs."
   ]
  },
  {
   "cell_type": "code",
   "execution_count": 1,
   "metadata": {},
   "outputs": [
    {
     "data": {
      "text/html": [
       "<div>\n",
       "<style scoped>\n",
       "    .dataframe tbody tr th:only-of-type {\n",
       "        vertical-align: middle;\n",
       "    }\n",
       "\n",
       "    .dataframe tbody tr th {\n",
       "        vertical-align: top;\n",
       "    }\n",
       "\n",
       "    .dataframe thead th {\n",
       "        text-align: right;\n",
       "    }\n",
       "</style>\n",
       "<table border=\"1\" class=\"dataframe\">\n",
       "  <thead>\n",
       "    <tr style=\"text-align: right;\">\n",
       "      <th></th>\n",
       "      <th>Unnamed: 0</th>\n",
       "      <th>date</th>\n",
       "      <th>holding</th>\n",
       "      <th>marketValue</th>\n",
       "    </tr>\n",
       "  </thead>\n",
       "  <tbody>\n",
       "    <tr>\n",
       "      <th>0</th>\n",
       "      <td>0</td>\n",
       "      <td>2019-12-31</td>\n",
       "      <td>Microsoft Corp.</td>\n",
       "      <td>3.388885e+10</td>\n",
       "    </tr>\n",
       "    <tr>\n",
       "      <th>1</th>\n",
       "      <td>1</td>\n",
       "      <td>2019-12-31</td>\n",
       "      <td>Apple Inc.</td>\n",
       "      <td>3.307893e+10</td>\n",
       "    </tr>\n",
       "    <tr>\n",
       "      <th>2</th>\n",
       "      <td>2</td>\n",
       "      <td>2019-12-31</td>\n",
       "      <td>Amazon.com Inc.</td>\n",
       "      <td>2.193640e+10</td>\n",
       "    </tr>\n",
       "    <tr>\n",
       "      <th>3</th>\n",
       "      <td>3</td>\n",
       "      <td>2019-12-31</td>\n",
       "      <td>Facebook Inc.</td>\n",
       "      <td>1.391406e+10</td>\n",
       "    </tr>\n",
       "    <tr>\n",
       "      <th>4</th>\n",
       "      <td>4</td>\n",
       "      <td>2019-12-31</td>\n",
       "      <td>Berkshire Hathaway Inc.</td>\n",
       "      <td>1.208788e+10</td>\n",
       "    </tr>\n",
       "    <tr>\n",
       "      <th>5</th>\n",
       "      <td>5</td>\n",
       "      <td>2019-12-31</td>\n",
       "      <td>JPMorgan Chase &amp; Co.</td>\n",
       "      <td>1.157386e+10</td>\n",
       "    </tr>\n",
       "    <tr>\n",
       "      <th>6</th>\n",
       "      <td>6</td>\n",
       "      <td>2019-12-31</td>\n",
       "      <td>Alphabet Inc.</td>\n",
       "      <td>1.129601e+10</td>\n",
       "    </tr>\n",
       "    <tr>\n",
       "      <th>7</th>\n",
       "      <td>7</td>\n",
       "      <td>2019-12-31</td>\n",
       "      <td>Alphabet Inc. Class C</td>\n",
       "      <td>1.100778e+10</td>\n",
       "    </tr>\n",
       "    <tr>\n",
       "      <th>8</th>\n",
       "      <td>8</td>\n",
       "      <td>2019-12-31</td>\n",
       "      <td>Johnson &amp; Johnson</td>\n",
       "      <td>1.081596e+10</td>\n",
       "    </tr>\n",
       "    <tr>\n",
       "      <th>9</th>\n",
       "      <td>9</td>\n",
       "      <td>2019-12-31</td>\n",
       "      <td>Visa Inc.</td>\n",
       "      <td>9.063540e+09</td>\n",
       "    </tr>\n",
       "  </tbody>\n",
       "</table>\n",
       "</div>"
      ],
      "text/plain": [
       "   Unnamed: 0        date                  holding   marketValue\n",
       "0           0  2019-12-31          Microsoft Corp.  3.388885e+10\n",
       "1           1  2019-12-31               Apple Inc.  3.307893e+10\n",
       "2           2  2019-12-31          Amazon.com Inc.  2.193640e+10\n",
       "3           3  2019-12-31            Facebook Inc.  1.391406e+10\n",
       "4           4  2019-12-31  Berkshire Hathaway Inc.  1.208788e+10\n",
       "5           5  2019-12-31     JPMorgan Chase & Co.  1.157386e+10\n",
       "6           6  2019-12-31            Alphabet Inc.  1.129601e+10\n",
       "7           7  2019-12-31    Alphabet Inc. Class C  1.100778e+10\n",
       "8           8  2019-12-31        Johnson & Johnson  1.081596e+10\n",
       "9           9  2019-12-31                Visa Inc.  9.063540e+09"
      ]
     },
     "execution_count": 1,
     "metadata": {},
     "output_type": "execute_result"
    }
   ],
   "source": [
    "import pandas as pd\n",
    "import numpy as np\n",
    "pd.read_csv('vti_12_31_2019.csv').head(10)"
   ]
  },
  {
   "cell_type": "markdown",
   "metadata": {},
   "source": [
    "So these are the top ten holdings within this etf. The marketValue column for each holding tells us the amount of money that goes towards that holding if we were to make an investment in this etf. To find % ownership for each holding, you can divide the marketValue for that holding with the total sum of marketValues for all holdings in that etf."
   ]
  },
  {
   "cell_type": "markdown",
   "metadata": {},
   "source": [
    "A brief discreption on the etfs..."
   ]
  },
  {
   "cell_type": "markdown",
   "metadata": {},
   "source": [
    "[VTI](https://investor.vanguard.com/etf/profile/VTI) - Total stock market etf. It technically owns all the publicly traded companies in these United States.\n",
    "\n",
    "[VO](https://investor.vanguard.com/etf/profile/vo) - Mid-size company etf. It owns companies that are not too larger or small.\n",
    "\n",
    "[VB](https://investor.vanguard.com/etf/profile/vb) - Small-size company etf. It owns companies that are small in market value.\n",
    "\n",
    "[VOO](https://investor.vanguard.com/etf/profile/voo) - These are all the companies that are part of the S&P 500 index. This is basically a large cap index and almost all companies within this are also found in VTI.\n",
    "\n",
    "[VXF](https://investor.vanguard.com/etf/profile/vxf) - These are all the companies that are part of VTI but excluding those that are found in the S&P 500 index. Which means VXF + VOO = VTI."
   ]
  },
  {
   "cell_type": "markdown",
   "metadata": {},
   "source": [
    "### Import Data"
   ]
  },
  {
   "cell_type": "code",
   "execution_count": 2,
   "metadata": {},
   "outputs": [],
   "source": [
    "vti = pd.read_csv('VTI_12_31_2019.csv')\n",
    "vo  = pd.read_csv('VO_12_31_2019.csv')\n",
    "vb  = pd.read_csv('VB_12_31_2019.csv')\n",
    "voo = pd.read_csv('VOO_12_31_2019.csv')\n",
    "vxf = pd.read_csv('VXF_12_31_2019.csv')"
   ]
  },
  {
   "cell_type": "code",
   "execution_count": 3,
   "metadata": {},
   "outputs": [
    {
     "data": {
      "text/html": [
       "<div>\n",
       "<style scoped>\n",
       "    .dataframe tbody tr th:only-of-type {\n",
       "        vertical-align: middle;\n",
       "    }\n",
       "\n",
       "    .dataframe tbody tr th {\n",
       "        vertical-align: top;\n",
       "    }\n",
       "\n",
       "    .dataframe thead th {\n",
       "        text-align: right;\n",
       "    }\n",
       "</style>\n",
       "<table border=\"1\" class=\"dataframe\">\n",
       "  <thead>\n",
       "    <tr style=\"text-align: right;\">\n",
       "      <th></th>\n",
       "      <th>Unnamed: 0</th>\n",
       "      <th>date</th>\n",
       "      <th>holding</th>\n",
       "      <th>marketValue</th>\n",
       "    </tr>\n",
       "  </thead>\n",
       "  <tbody>\n",
       "    <tr>\n",
       "      <th>0</th>\n",
       "      <td>0</td>\n",
       "      <td>2019-12-31</td>\n",
       "      <td>Microsoft Corp.</td>\n",
       "      <td>3.388885e+10</td>\n",
       "    </tr>\n",
       "    <tr>\n",
       "      <th>1</th>\n",
       "      <td>1</td>\n",
       "      <td>2019-12-31</td>\n",
       "      <td>Apple Inc.</td>\n",
       "      <td>3.307893e+10</td>\n",
       "    </tr>\n",
       "    <tr>\n",
       "      <th>2</th>\n",
       "      <td>2</td>\n",
       "      <td>2019-12-31</td>\n",
       "      <td>Amazon.com Inc.</td>\n",
       "      <td>2.193640e+10</td>\n",
       "    </tr>\n",
       "    <tr>\n",
       "      <th>3</th>\n",
       "      <td>3</td>\n",
       "      <td>2019-12-31</td>\n",
       "      <td>Facebook Inc.</td>\n",
       "      <td>1.391406e+10</td>\n",
       "    </tr>\n",
       "    <tr>\n",
       "      <th>4</th>\n",
       "      <td>4</td>\n",
       "      <td>2019-12-31</td>\n",
       "      <td>Berkshire Hathaway Inc.</td>\n",
       "      <td>1.208788e+10</td>\n",
       "    </tr>\n",
       "  </tbody>\n",
       "</table>\n",
       "</div>"
      ],
      "text/plain": [
       "   Unnamed: 0        date                  holding   marketValue\n",
       "0           0  2019-12-31          Microsoft Corp.  3.388885e+10\n",
       "1           1  2019-12-31               Apple Inc.  3.307893e+10\n",
       "2           2  2019-12-31          Amazon.com Inc.  2.193640e+10\n",
       "3           3  2019-12-31            Facebook Inc.  1.391406e+10\n",
       "4           4  2019-12-31  Berkshire Hathaway Inc.  1.208788e+10"
      ]
     },
     "execution_count": 3,
     "metadata": {},
     "output_type": "execute_result"
    }
   ],
   "source": [
    "vti.head()"
   ]
  },
  {
   "cell_type": "markdown",
   "metadata": {},
   "source": [
    "### Cleanse Data\n",
    "\n",
    "1. Are the 'Unnamed: 0' column and Index the same?\n",
    "2. Does the 'date' column given any realy information?"
   ]
  },
  {
   "cell_type": "code",
   "execution_count": 4,
   "metadata": {},
   "outputs": [
    {
     "data": {
      "text/plain": [
       "{'vti': 0, 'vo': 0, 'vb': 0, 'voo': 0, 'vxf': 0}"
      ]
     },
     "execution_count": 4,
     "metadata": {},
     "output_type": "execute_result"
    }
   ],
   "source": [
    "{'vti': (vti.index - vti['Unnamed: 0']).sum(),\n",
    " 'vo':  (vo.index  - vo['Unnamed: 0']).sum(),\n",
    " 'vb':  (vb.index  - vb['Unnamed: 0']).sum(),\n",
    " 'voo': (voo.index - voo['Unnamed: 0']).sum(),\n",
    " 'vxf': (vxf.index - vxf['Unnamed: 0']).sum() }"
   ]
  },
  {
   "cell_type": "code",
   "execution_count": 5,
   "metadata": {},
   "outputs": [
    {
     "data": {
      "text/plain": [
       "{'vti': 0, 'vo': 0, 'vb': 0, 'voo': 0, 'vxf': 0}"
      ]
     },
     "execution_count": 5,
     "metadata": {},
     "output_type": "execute_result"
    }
   ],
   "source": [
    "{'vti': (vti.date != '2019-12-31').sum(),\n",
    " 'vo':  (vo.date != '2019-12-31').sum(),\n",
    " 'vb':  (vb.date != '2019-12-31').sum(),\n",
    " 'voo': (voo.date != '2019-12-31').sum(),\n",
    " 'vxf': (vxf.date != '2019-12-31').sum() }"
   ]
  },
  {
   "cell_type": "markdown",
   "metadata": {},
   "source": [
    "This indicates that the columns 'Unnamed: 0' is same as the index, so this column can be dropped.  Also, the date column only contains '2019-12-31'.  Since it does not add information, it will only get in the way.  So drop it also."
   ]
  },
  {
   "cell_type": "code",
   "execution_count": 6,
   "metadata": {},
   "outputs": [],
   "source": [
    "vti.drop(columns=['Unnamed: 0','date'], inplace=True)\n",
    "vo.drop (columns=['Unnamed: 0','date'], inplace=True)\n",
    "vb.drop (columns=['Unnamed: 0','date'], inplace=True)\n",
    "voo.drop(columns=['Unnamed: 0','date'], inplace=True)\n",
    "vxf.drop(columns=['Unnamed: 0','date'], inplace=True)"
   ]
  },
  {
   "cell_type": "code",
   "execution_count": 7,
   "metadata": {},
   "outputs": [
    {
     "data": {
      "text/html": [
       "<div>\n",
       "<style scoped>\n",
       "    .dataframe tbody tr th:only-of-type {\n",
       "        vertical-align: middle;\n",
       "    }\n",
       "\n",
       "    .dataframe tbody tr th {\n",
       "        vertical-align: top;\n",
       "    }\n",
       "\n",
       "    .dataframe thead th {\n",
       "        text-align: right;\n",
       "    }\n",
       "</style>\n",
       "<table border=\"1\" class=\"dataframe\">\n",
       "  <thead>\n",
       "    <tr style=\"text-align: right;\">\n",
       "      <th></th>\n",
       "      <th>holding</th>\n",
       "      <th>marketValue</th>\n",
       "    </tr>\n",
       "  </thead>\n",
       "  <tbody>\n",
       "    <tr>\n",
       "      <th>0</th>\n",
       "      <td>Microsoft Corp.</td>\n",
       "      <td>3.388885e+10</td>\n",
       "    </tr>\n",
       "    <tr>\n",
       "      <th>1</th>\n",
       "      <td>Apple Inc.</td>\n",
       "      <td>3.307893e+10</td>\n",
       "    </tr>\n",
       "    <tr>\n",
       "      <th>2</th>\n",
       "      <td>Amazon.com Inc.</td>\n",
       "      <td>2.193640e+10</td>\n",
       "    </tr>\n",
       "    <tr>\n",
       "      <th>3</th>\n",
       "      <td>Facebook Inc.</td>\n",
       "      <td>1.391406e+10</td>\n",
       "    </tr>\n",
       "    <tr>\n",
       "      <th>4</th>\n",
       "      <td>Berkshire Hathaway Inc.</td>\n",
       "      <td>1.208788e+10</td>\n",
       "    </tr>\n",
       "  </tbody>\n",
       "</table>\n",
       "</div>"
      ],
      "text/plain": [
       "                   holding   marketValue\n",
       "0          Microsoft Corp.  3.388885e+10\n",
       "1               Apple Inc.  3.307893e+10\n",
       "2          Amazon.com Inc.  2.193640e+10\n",
       "3            Facebook Inc.  1.391406e+10\n",
       "4  Berkshire Hathaway Inc.  1.208788e+10"
      ]
     },
     "execution_count": 7,
     "metadata": {},
     "output_type": "execute_result"
    }
   ],
   "source": [
    "vti.head()"
   ]
  },
  {
   "cell_type": "markdown",
   "metadata": {},
   "source": [
    "### Merge Data"
   ]
  },
  {
   "cell_type": "markdown",
   "metadata": {},
   "source": [
    "First, formulate a single data frame (called 'portfolio') that contains all the holdings of all the ETFs.  Since the merge is not performed on the 'marketValue' column and it is a column name common to all the ETFs, pandas renames the column by appending a '\\_x'.  To keep track of which column is which, rename the columns to 'mv\\_\\<etf name\\>'."
   ]
  },
  {
   "cell_type": "code",
   "execution_count": 8,
   "metadata": {},
   "outputs": [
    {
     "data": {
      "text/html": [
       "<div>\n",
       "<style scoped>\n",
       "    .dataframe tbody tr th:only-of-type {\n",
       "        vertical-align: middle;\n",
       "    }\n",
       "\n",
       "    .dataframe tbody tr th {\n",
       "        vertical-align: top;\n",
       "    }\n",
       "\n",
       "    .dataframe thead th {\n",
       "        text-align: right;\n",
       "    }\n",
       "</style>\n",
       "<table border=\"1\" class=\"dataframe\">\n",
       "  <thead>\n",
       "    <tr style=\"text-align: right;\">\n",
       "      <th></th>\n",
       "      <th>holding</th>\n",
       "      <th>mv_vti</th>\n",
       "      <th>mv_vo</th>\n",
       "      <th>mv_vb</th>\n",
       "      <th>mv_voo</th>\n",
       "      <th>mv_vxf</th>\n",
       "    </tr>\n",
       "  </thead>\n",
       "  <tbody>\n",
       "    <tr>\n",
       "      <th>0</th>\n",
       "      <td>Microsoft Corp.</td>\n",
       "      <td>3.388885e+10</td>\n",
       "      <td>NaN</td>\n",
       "      <td>NaN</td>\n",
       "      <td>2.403557e+10</td>\n",
       "      <td>NaN</td>\n",
       "    </tr>\n",
       "    <tr>\n",
       "      <th>1</th>\n",
       "      <td>Apple Inc.</td>\n",
       "      <td>3.307893e+10</td>\n",
       "      <td>NaN</td>\n",
       "      <td>NaN</td>\n",
       "      <td>2.450349e+10</td>\n",
       "      <td>NaN</td>\n",
       "    </tr>\n",
       "    <tr>\n",
       "      <th>2</th>\n",
       "      <td>Amazon.com Inc.</td>\n",
       "      <td>2.193640e+10</td>\n",
       "      <td>NaN</td>\n",
       "      <td>NaN</td>\n",
       "      <td>1.537491e+10</td>\n",
       "      <td>NaN</td>\n",
       "    </tr>\n",
       "    <tr>\n",
       "      <th>3</th>\n",
       "      <td>Facebook Inc.</td>\n",
       "      <td>1.391406e+10</td>\n",
       "      <td>NaN</td>\n",
       "      <td>NaN</td>\n",
       "      <td>NaN</td>\n",
       "      <td>NaN</td>\n",
       "    </tr>\n",
       "    <tr>\n",
       "      <th>4</th>\n",
       "      <td>Berkshire Hathaway Inc.</td>\n",
       "      <td>1.208788e+10</td>\n",
       "      <td>NaN</td>\n",
       "      <td>NaN</td>\n",
       "      <td>NaN</td>\n",
       "      <td>NaN</td>\n",
       "    </tr>\n",
       "  </tbody>\n",
       "</table>\n",
       "</div>"
      ],
      "text/plain": [
       "                   holding        mv_vti  mv_vo  mv_vb        mv_voo  mv_vxf\n",
       "0          Microsoft Corp.  3.388885e+10    NaN    NaN  2.403557e+10     NaN\n",
       "1               Apple Inc.  3.307893e+10    NaN    NaN  2.450349e+10     NaN\n",
       "2          Amazon.com Inc.  2.193640e+10    NaN    NaN  1.537491e+10     NaN\n",
       "3            Facebook Inc.  1.391406e+10    NaN    NaN           NaN     NaN\n",
       "4  Berkshire Hathaway Inc.  1.208788e+10    NaN    NaN           NaN     NaN"
      ]
     },
     "execution_count": 8,
     "metadata": {},
     "output_type": "execute_result"
    }
   ],
   "source": [
    "portfolio = vti.merge(right=vo, on='holding', how='outer')\n",
    "portfolio.rename(columns={'marketValue_x':'mv_vti', 'marketValue_y':'mv_vo'}, inplace=True)\n",
    "portfolio = portfolio.merge(right=vb, on='holding', how='outer')\n",
    "portfolio.rename(columns={'marketValue':'mv_vb'}, inplace=True)\n",
    "portfolio = portfolio.merge(right=voo, on='holding', how='outer')\n",
    "portfolio.rename(columns={'marketValue':'mv_voo'}, inplace=True)\n",
    "portfolio = portfolio.merge(right=vxf, on='holding', how='outer')\n",
    "portfolio.rename(columns={'marketValue':'mv_vxf'}, inplace=True)\n",
    "portfolio.head()"
   ]
  },
  {
   "cell_type": "markdown",
   "metadata": {},
   "source": [
    "### Cleanse Merged Data"
   ]
  },
  {
   "cell_type": "markdown",
   "metadata": {},
   "source": [
    "Everywhere there is a holding not held by an ETF, pandas inserted a NaN.  This means that ETF does not hold that holding, so its market value is zero.  To make the math simpler later, replace all the market values of NaN with 0."
   ]
  },
  {
   "cell_type": "code",
   "execution_count": 9,
   "metadata": {},
   "outputs": [
    {
     "data": {
      "text/html": [
       "<div>\n",
       "<style scoped>\n",
       "    .dataframe tbody tr th:only-of-type {\n",
       "        vertical-align: middle;\n",
       "    }\n",
       "\n",
       "    .dataframe tbody tr th {\n",
       "        vertical-align: top;\n",
       "    }\n",
       "\n",
       "    .dataframe thead th {\n",
       "        text-align: right;\n",
       "    }\n",
       "</style>\n",
       "<table border=\"1\" class=\"dataframe\">\n",
       "  <thead>\n",
       "    <tr style=\"text-align: right;\">\n",
       "      <th></th>\n",
       "      <th>holding</th>\n",
       "      <th>mv_vti</th>\n",
       "      <th>mv_vo</th>\n",
       "      <th>mv_vb</th>\n",
       "      <th>mv_voo</th>\n",
       "      <th>mv_vxf</th>\n",
       "    </tr>\n",
       "  </thead>\n",
       "  <tbody>\n",
       "    <tr>\n",
       "      <th>0</th>\n",
       "      <td>Microsoft Corp.</td>\n",
       "      <td>3.388885e+10</td>\n",
       "      <td>0.0</td>\n",
       "      <td>0.0</td>\n",
       "      <td>2.403557e+10</td>\n",
       "      <td>0.0</td>\n",
       "    </tr>\n",
       "    <tr>\n",
       "      <th>1</th>\n",
       "      <td>Apple Inc.</td>\n",
       "      <td>3.307893e+10</td>\n",
       "      <td>0.0</td>\n",
       "      <td>0.0</td>\n",
       "      <td>2.450349e+10</td>\n",
       "      <td>0.0</td>\n",
       "    </tr>\n",
       "    <tr>\n",
       "      <th>2</th>\n",
       "      <td>Amazon.com Inc.</td>\n",
       "      <td>2.193640e+10</td>\n",
       "      <td>0.0</td>\n",
       "      <td>0.0</td>\n",
       "      <td>1.537491e+10</td>\n",
       "      <td>0.0</td>\n",
       "    </tr>\n",
       "    <tr>\n",
       "      <th>3</th>\n",
       "      <td>Facebook Inc.</td>\n",
       "      <td>1.391406e+10</td>\n",
       "      <td>0.0</td>\n",
       "      <td>0.0</td>\n",
       "      <td>0.000000e+00</td>\n",
       "      <td>0.0</td>\n",
       "    </tr>\n",
       "    <tr>\n",
       "      <th>4</th>\n",
       "      <td>Berkshire Hathaway Inc.</td>\n",
       "      <td>1.208788e+10</td>\n",
       "      <td>0.0</td>\n",
       "      <td>0.0</td>\n",
       "      <td>0.000000e+00</td>\n",
       "      <td>0.0</td>\n",
       "    </tr>\n",
       "  </tbody>\n",
       "</table>\n",
       "</div>"
      ],
      "text/plain": [
       "                   holding        mv_vti  mv_vo  mv_vb        mv_voo  mv_vxf\n",
       "0          Microsoft Corp.  3.388885e+10    0.0    0.0  2.403557e+10     0.0\n",
       "1               Apple Inc.  3.307893e+10    0.0    0.0  2.450349e+10     0.0\n",
       "2          Amazon.com Inc.  2.193640e+10    0.0    0.0  1.537491e+10     0.0\n",
       "3            Facebook Inc.  1.391406e+10    0.0    0.0  0.000000e+00     0.0\n",
       "4  Berkshire Hathaway Inc.  1.208788e+10    0.0    0.0  0.000000e+00     0.0"
      ]
     },
     "execution_count": 9,
     "metadata": {},
     "output_type": "execute_result"
    }
   ],
   "source": [
    "portfolio.replace(to_replace=np.nan, value=0, inplace=True)\n",
    "portfolio.head()"
   ]
  },
  {
   "cell_type": "markdown",
   "metadata": {},
   "source": [
    "Next, calculate the percent each holding represents for the ETF.  Add a 'pct' column for each ETF, and populate it with the market value for each holding divided by the total market value of the ETF."
   ]
  },
  {
   "cell_type": "code",
   "execution_count": 10,
   "metadata": {},
   "outputs": [
    {
     "data": {
      "text/html": [
       "<div>\n",
       "<style scoped>\n",
       "    .dataframe tbody tr th:only-of-type {\n",
       "        vertical-align: middle;\n",
       "    }\n",
       "\n",
       "    .dataframe tbody tr th {\n",
       "        vertical-align: top;\n",
       "    }\n",
       "\n",
       "    .dataframe thead th {\n",
       "        text-align: right;\n",
       "    }\n",
       "</style>\n",
       "<table border=\"1\" class=\"dataframe\">\n",
       "  <thead>\n",
       "    <tr style=\"text-align: right;\">\n",
       "      <th></th>\n",
       "      <th>holding</th>\n",
       "      <th>mv_vti</th>\n",
       "      <th>mv_vo</th>\n",
       "      <th>mv_vb</th>\n",
       "      <th>mv_voo</th>\n",
       "      <th>mv_vxf</th>\n",
       "      <th>pct_vti</th>\n",
       "      <th>pct_vo</th>\n",
       "      <th>pct_vb</th>\n",
       "      <th>pct_voo</th>\n",
       "      <th>pct_vxf</th>\n",
       "    </tr>\n",
       "  </thead>\n",
       "  <tbody>\n",
       "    <tr>\n",
       "      <th>0</th>\n",
       "      <td>Microsoft Corp.</td>\n",
       "      <td>3.388885e+10</td>\n",
       "      <td>0.0</td>\n",
       "      <td>0.0</td>\n",
       "      <td>2.403557e+10</td>\n",
       "      <td>0.0</td>\n",
       "      <td>0.037868</td>\n",
       "      <td>0.0</td>\n",
       "      <td>0.0</td>\n",
       "      <td>0.044962</td>\n",
       "      <td>0.0</td>\n",
       "    </tr>\n",
       "    <tr>\n",
       "      <th>1</th>\n",
       "      <td>Apple Inc.</td>\n",
       "      <td>3.307893e+10</td>\n",
       "      <td>0.0</td>\n",
       "      <td>0.0</td>\n",
       "      <td>2.450349e+10</td>\n",
       "      <td>0.0</td>\n",
       "      <td>0.036963</td>\n",
       "      <td>0.0</td>\n",
       "      <td>0.0</td>\n",
       "      <td>0.045838</td>\n",
       "      <td>0.0</td>\n",
       "    </tr>\n",
       "    <tr>\n",
       "      <th>2</th>\n",
       "      <td>Amazon.com Inc.</td>\n",
       "      <td>2.193640e+10</td>\n",
       "      <td>0.0</td>\n",
       "      <td>0.0</td>\n",
       "      <td>1.537491e+10</td>\n",
       "      <td>0.0</td>\n",
       "      <td>0.024512</td>\n",
       "      <td>0.0</td>\n",
       "      <td>0.0</td>\n",
       "      <td>0.028761</td>\n",
       "      <td>0.0</td>\n",
       "    </tr>\n",
       "    <tr>\n",
       "      <th>3</th>\n",
       "      <td>Facebook Inc.</td>\n",
       "      <td>1.391406e+10</td>\n",
       "      <td>0.0</td>\n",
       "      <td>0.0</td>\n",
       "      <td>0.000000e+00</td>\n",
       "      <td>0.0</td>\n",
       "      <td>0.015548</td>\n",
       "      <td>0.0</td>\n",
       "      <td>0.0</td>\n",
       "      <td>0.000000</td>\n",
       "      <td>0.0</td>\n",
       "    </tr>\n",
       "    <tr>\n",
       "      <th>4</th>\n",
       "      <td>Berkshire Hathaway Inc.</td>\n",
       "      <td>1.208788e+10</td>\n",
       "      <td>0.0</td>\n",
       "      <td>0.0</td>\n",
       "      <td>0.000000e+00</td>\n",
       "      <td>0.0</td>\n",
       "      <td>0.013507</td>\n",
       "      <td>0.0</td>\n",
       "      <td>0.0</td>\n",
       "      <td>0.000000</td>\n",
       "      <td>0.0</td>\n",
       "    </tr>\n",
       "  </tbody>\n",
       "</table>\n",
       "</div>"
      ],
      "text/plain": [
       "                   holding        mv_vti  mv_vo  mv_vb        mv_voo  mv_vxf  \\\n",
       "0          Microsoft Corp.  3.388885e+10    0.0    0.0  2.403557e+10     0.0   \n",
       "1               Apple Inc.  3.307893e+10    0.0    0.0  2.450349e+10     0.0   \n",
       "2          Amazon.com Inc.  2.193640e+10    0.0    0.0  1.537491e+10     0.0   \n",
       "3            Facebook Inc.  1.391406e+10    0.0    0.0  0.000000e+00     0.0   \n",
       "4  Berkshire Hathaway Inc.  1.208788e+10    0.0    0.0  0.000000e+00     0.0   \n",
       "\n",
       "    pct_vti  pct_vo  pct_vb   pct_voo  pct_vxf  \n",
       "0  0.037868     0.0     0.0  0.044962      0.0  \n",
       "1  0.036963     0.0     0.0  0.045838      0.0  \n",
       "2  0.024512     0.0     0.0  0.028761      0.0  \n",
       "3  0.015548     0.0     0.0  0.000000      0.0  \n",
       "4  0.013507     0.0     0.0  0.000000      0.0  "
      ]
     },
     "execution_count": 10,
     "metadata": {},
     "output_type": "execute_result"
    }
   ],
   "source": [
    "for col in portfolio.columns[1:6]:\n",
    "    pct_name  = 'pct_'+col.split('_')[1]\n",
    "    col_total = portfolio[col].sum()\n",
    "    portfolio.insert(loc=len(portfolio.columns),column=pct_name, value=portfolio[col]/col_total)\n",
    "\n",
    "portfolio.head()"
   ]
  },
  {
   "cell_type": "markdown",
   "metadata": {},
   "source": [
    "If the percentage columns were created correctly, their sum should be 1.0."
   ]
  },
  {
   "cell_type": "code",
   "execution_count": 11,
   "metadata": {},
   "outputs": [
    {
     "data": {
      "text/plain": [
       "{'pct_vti': 1.0,\n",
       " 'pct_vo': 1.0,\n",
       " 'pct_vb': 0.9999999999999999,\n",
       " 'pct_voo': 1.0000000000000002,\n",
       " 'pct_vxf': 1.0}"
      ]
     },
     "execution_count": 11,
     "metadata": {},
     "output_type": "execute_result"
    }
   ],
   "source": [
    "check = {}\n",
    "for col in portfolio.columns[6:11]:\n",
    "    check.update({col:portfolio[col].sum()})\n",
    "check"
   ]
  },
  {
   "cell_type": "markdown",
   "metadata": {},
   "source": [
    "The sums of all the percent columns is 1E-15 of 1.0, which is within rounding error."
   ]
  },
  {
   "cell_type": "markdown",
   "metadata": {},
   "source": [
    "Next, define a function, '**calc_mv**', that will calculate the market value invested in each holding, based on the dollar value invested in each ETF.  (This function will be used again be used again later.)"
   ]
  },
  {
   "cell_type": "code",
   "execution_count": 12,
   "metadata": {},
   "outputs": [],
   "source": [
    "def calc_mv(portfolio, fund_purchase, pct_columns):\n",
    "    result = [0.] * len(portfolio)\n",
    "    for i in range(len(portfolio)):\n",
    "        for j in range(len(fund_purchase)):\n",
    "            result[i] += fund_purchase[j] * portfolio[pct_columns[j]].iloc[i]\n",
    "    return result"
   ]
  },
  {
   "cell_type": "markdown",
   "metadata": {},
   "source": [
    "Next, add a column, '**total_mv**', that calculates how much of each holding is bought, assuming the investment total is split equally five ways."
   ]
  },
  {
   "cell_type": "code",
   "execution_count": 13,
   "metadata": {},
   "outputs": [
    {
     "data": {
      "text/html": [
       "<div>\n",
       "<style scoped>\n",
       "    .dataframe tbody tr th:only-of-type {\n",
       "        vertical-align: middle;\n",
       "    }\n",
       "\n",
       "    .dataframe tbody tr th {\n",
       "        vertical-align: top;\n",
       "    }\n",
       "\n",
       "    .dataframe thead th {\n",
       "        text-align: right;\n",
       "    }\n",
       "</style>\n",
       "<table border=\"1\" class=\"dataframe\">\n",
       "  <thead>\n",
       "    <tr style=\"text-align: right;\">\n",
       "      <th></th>\n",
       "      <th>holding</th>\n",
       "      <th>mv_vti</th>\n",
       "      <th>mv_vo</th>\n",
       "      <th>mv_vb</th>\n",
       "      <th>mv_voo</th>\n",
       "      <th>mv_vxf</th>\n",
       "      <th>pct_vti</th>\n",
       "      <th>pct_vo</th>\n",
       "      <th>pct_vb</th>\n",
       "      <th>pct_voo</th>\n",
       "      <th>pct_vxf</th>\n",
       "      <th>total_mv</th>\n",
       "    </tr>\n",
       "  </thead>\n",
       "  <tbody>\n",
       "    <tr>\n",
       "      <th>0</th>\n",
       "      <td>Microsoft Corp.</td>\n",
       "      <td>3.388885e+10</td>\n",
       "      <td>0.0</td>\n",
       "      <td>0.0</td>\n",
       "      <td>2.403557e+10</td>\n",
       "      <td>0.0</td>\n",
       "      <td>0.037868</td>\n",
       "      <td>0.0</td>\n",
       "      <td>0.0</td>\n",
       "      <td>0.044962</td>\n",
       "      <td>0.0</td>\n",
       "      <td>1.656608</td>\n",
       "    </tr>\n",
       "    <tr>\n",
       "      <th>1</th>\n",
       "      <td>Apple Inc.</td>\n",
       "      <td>3.307893e+10</td>\n",
       "      <td>0.0</td>\n",
       "      <td>0.0</td>\n",
       "      <td>2.450349e+10</td>\n",
       "      <td>0.0</td>\n",
       "      <td>0.036963</td>\n",
       "      <td>0.0</td>\n",
       "      <td>0.0</td>\n",
       "      <td>0.045838</td>\n",
       "      <td>0.0</td>\n",
       "      <td>1.656014</td>\n",
       "    </tr>\n",
       "    <tr>\n",
       "      <th>2</th>\n",
       "      <td>Amazon.com Inc.</td>\n",
       "      <td>2.193640e+10</td>\n",
       "      <td>0.0</td>\n",
       "      <td>0.0</td>\n",
       "      <td>1.537491e+10</td>\n",
       "      <td>0.0</td>\n",
       "      <td>0.024512</td>\n",
       "      <td>0.0</td>\n",
       "      <td>0.0</td>\n",
       "      <td>0.028761</td>\n",
       "      <td>0.0</td>\n",
       "      <td>1.065467</td>\n",
       "    </tr>\n",
       "    <tr>\n",
       "      <th>3</th>\n",
       "      <td>Facebook Inc.</td>\n",
       "      <td>1.391406e+10</td>\n",
       "      <td>0.0</td>\n",
       "      <td>0.0</td>\n",
       "      <td>0.000000e+00</td>\n",
       "      <td>0.0</td>\n",
       "      <td>0.015548</td>\n",
       "      <td>0.0</td>\n",
       "      <td>0.0</td>\n",
       "      <td>0.000000</td>\n",
       "      <td>0.0</td>\n",
       "      <td>0.310956</td>\n",
       "    </tr>\n",
       "    <tr>\n",
       "      <th>4</th>\n",
       "      <td>Berkshire Hathaway Inc.</td>\n",
       "      <td>1.208788e+10</td>\n",
       "      <td>0.0</td>\n",
       "      <td>0.0</td>\n",
       "      <td>0.000000e+00</td>\n",
       "      <td>0.0</td>\n",
       "      <td>0.013507</td>\n",
       "      <td>0.0</td>\n",
       "      <td>0.0</td>\n",
       "      <td>0.000000</td>\n",
       "      <td>0.0</td>\n",
       "      <td>0.270144</td>\n",
       "    </tr>\n",
       "  </tbody>\n",
       "</table>\n",
       "</div>"
      ],
      "text/plain": [
       "                   holding        mv_vti  mv_vo  mv_vb        mv_voo  mv_vxf  \\\n",
       "0          Microsoft Corp.  3.388885e+10    0.0    0.0  2.403557e+10     0.0   \n",
       "1               Apple Inc.  3.307893e+10    0.0    0.0  2.450349e+10     0.0   \n",
       "2          Amazon.com Inc.  2.193640e+10    0.0    0.0  1.537491e+10     0.0   \n",
       "3            Facebook Inc.  1.391406e+10    0.0    0.0  0.000000e+00     0.0   \n",
       "4  Berkshire Hathaway Inc.  1.208788e+10    0.0    0.0  0.000000e+00     0.0   \n",
       "\n",
       "    pct_vti  pct_vo  pct_vb   pct_voo  pct_vxf  total_mv  \n",
       "0  0.037868     0.0     0.0  0.044962      0.0  1.656608  \n",
       "1  0.036963     0.0     0.0  0.045838      0.0  1.656014  \n",
       "2  0.024512     0.0     0.0  0.028761      0.0  1.065467  \n",
       "3  0.015548     0.0     0.0  0.000000      0.0  0.310956  \n",
       "4  0.013507     0.0     0.0  0.000000      0.0  0.270144  "
      ]
     },
     "execution_count": 13,
     "metadata": {},
     "output_type": "execute_result"
    }
   ],
   "source": [
    "fund_purchase = [20.] * 5\n",
    "pct_columns   = portfolio.columns[6:11]\n",
    "\n",
    "portfolio.insert(loc=11,column='total_mv', value=calc_mv(portfolio, fund_purchase, pct_columns))\n",
    "portfolio.head()"
   ]
  },
  {
   "cell_type": "markdown",
   "metadata": {},
   "source": [
    "Finally, add a column the labels the first 50 holdings with the highest market value as \"Large\"; the next 450 companies at \"Mid-Size\", and the remaining as \"Small\".  \n",
    "\n",
    "This labeling assumes the following:\n",
    "1. The ETF holdings are listed in monotonically decreasing market capitalization order, with biggest company first and smallest company last.  The '_market value_' each ETF shows is the market value of the shares of stocks that ETF holds...not the market capitalization of the company.  This can be seen by the same holdings have different market values in different ETFs.\n",
    "2. VTI owns some of all the holdings available in the market.  When merging the ETF data into '_portfolio_', I started with VTI so that all the holding would be listed in descending market capitalization order."
   ]
  },
  {
   "cell_type": "code",
   "execution_count": 14,
   "metadata": {},
   "outputs": [
    {
     "data": {
      "text/html": [
       "<div>\n",
       "<style scoped>\n",
       "    .dataframe tbody tr th:only-of-type {\n",
       "        vertical-align: middle;\n",
       "    }\n",
       "\n",
       "    .dataframe tbody tr th {\n",
       "        vertical-align: top;\n",
       "    }\n",
       "\n",
       "    .dataframe thead th {\n",
       "        text-align: right;\n",
       "    }\n",
       "</style>\n",
       "<table border=\"1\" class=\"dataframe\">\n",
       "  <thead>\n",
       "    <tr style=\"text-align: right;\">\n",
       "      <th></th>\n",
       "      <th>holding</th>\n",
       "      <th>mv_vti</th>\n",
       "      <th>mv_vo</th>\n",
       "      <th>mv_vb</th>\n",
       "      <th>mv_voo</th>\n",
       "      <th>mv_vxf</th>\n",
       "      <th>pct_vti</th>\n",
       "      <th>pct_vo</th>\n",
       "      <th>pct_vb</th>\n",
       "      <th>pct_voo</th>\n",
       "      <th>pct_vxf</th>\n",
       "      <th>total_mv</th>\n",
       "      <th>holding_type</th>\n",
       "    </tr>\n",
       "  </thead>\n",
       "  <tbody>\n",
       "    <tr>\n",
       "      <th>0</th>\n",
       "      <td>Microsoft Corp.</td>\n",
       "      <td>3.388885e+10</td>\n",
       "      <td>0.0</td>\n",
       "      <td>0.0</td>\n",
       "      <td>2.403557e+10</td>\n",
       "      <td>0.0</td>\n",
       "      <td>0.037868</td>\n",
       "      <td>0.0</td>\n",
       "      <td>0.0</td>\n",
       "      <td>0.044962</td>\n",
       "      <td>0.0</td>\n",
       "      <td>1.656608</td>\n",
       "      <td>Large</td>\n",
       "    </tr>\n",
       "    <tr>\n",
       "      <th>1</th>\n",
       "      <td>Apple Inc.</td>\n",
       "      <td>3.307893e+10</td>\n",
       "      <td>0.0</td>\n",
       "      <td>0.0</td>\n",
       "      <td>2.450349e+10</td>\n",
       "      <td>0.0</td>\n",
       "      <td>0.036963</td>\n",
       "      <td>0.0</td>\n",
       "      <td>0.0</td>\n",
       "      <td>0.045838</td>\n",
       "      <td>0.0</td>\n",
       "      <td>1.656014</td>\n",
       "      <td>Large</td>\n",
       "    </tr>\n",
       "    <tr>\n",
       "      <th>2</th>\n",
       "      <td>Amazon.com Inc.</td>\n",
       "      <td>2.193640e+10</td>\n",
       "      <td>0.0</td>\n",
       "      <td>0.0</td>\n",
       "      <td>1.537491e+10</td>\n",
       "      <td>0.0</td>\n",
       "      <td>0.024512</td>\n",
       "      <td>0.0</td>\n",
       "      <td>0.0</td>\n",
       "      <td>0.028761</td>\n",
       "      <td>0.0</td>\n",
       "      <td>1.065467</td>\n",
       "      <td>Large</td>\n",
       "    </tr>\n",
       "    <tr>\n",
       "      <th>3</th>\n",
       "      <td>Facebook Inc.</td>\n",
       "      <td>1.391406e+10</td>\n",
       "      <td>0.0</td>\n",
       "      <td>0.0</td>\n",
       "      <td>0.000000e+00</td>\n",
       "      <td>0.0</td>\n",
       "      <td>0.015548</td>\n",
       "      <td>0.0</td>\n",
       "      <td>0.0</td>\n",
       "      <td>0.000000</td>\n",
       "      <td>0.0</td>\n",
       "      <td>0.310956</td>\n",
       "      <td>Large</td>\n",
       "    </tr>\n",
       "    <tr>\n",
       "      <th>4</th>\n",
       "      <td>Berkshire Hathaway Inc.</td>\n",
       "      <td>1.208788e+10</td>\n",
       "      <td>0.0</td>\n",
       "      <td>0.0</td>\n",
       "      <td>0.000000e+00</td>\n",
       "      <td>0.0</td>\n",
       "      <td>0.013507</td>\n",
       "      <td>0.0</td>\n",
       "      <td>0.0</td>\n",
       "      <td>0.000000</td>\n",
       "      <td>0.0</td>\n",
       "      <td>0.270144</td>\n",
       "      <td>Large</td>\n",
       "    </tr>\n",
       "  </tbody>\n",
       "</table>\n",
       "</div>"
      ],
      "text/plain": [
       "                   holding        mv_vti  mv_vo  mv_vb        mv_voo  mv_vxf  \\\n",
       "0          Microsoft Corp.  3.388885e+10    0.0    0.0  2.403557e+10     0.0   \n",
       "1               Apple Inc.  3.307893e+10    0.0    0.0  2.450349e+10     0.0   \n",
       "2          Amazon.com Inc.  2.193640e+10    0.0    0.0  1.537491e+10     0.0   \n",
       "3            Facebook Inc.  1.391406e+10    0.0    0.0  0.000000e+00     0.0   \n",
       "4  Berkshire Hathaway Inc.  1.208788e+10    0.0    0.0  0.000000e+00     0.0   \n",
       "\n",
       "    pct_vti  pct_vo  pct_vb   pct_voo  pct_vxf  total_mv holding_type  \n",
       "0  0.037868     0.0     0.0  0.044962      0.0  1.656608        Large  \n",
       "1  0.036963     0.0     0.0  0.045838      0.0  1.656014        Large  \n",
       "2  0.024512     0.0     0.0  0.028761      0.0  1.065467        Large  \n",
       "3  0.015548     0.0     0.0  0.000000      0.0  0.310956        Large  \n",
       "4  0.013507     0.0     0.0  0.000000      0.0  0.270144        Large  "
      ]
     },
     "execution_count": 14,
     "metadata": {},
     "output_type": "execute_result"
    }
   ],
   "source": [
    "temp = []\n",
    "temp[:50]         = ['Large'] * 50\n",
    "temp[50:(50+450)] = ['Mid-Size'] * 450\n",
    "temp[(50+450):]   = ['Small'] * (len(portfolio)-(50+450))\n",
    "portfolio.insert(loc=len(portfolio.columns),column='holding_type', value=temp)\n",
    "portfolio.head()"
   ]
  },
  {
   "cell_type": "markdown",
   "metadata": {},
   "source": [
    "### Question"
   ]
  },
  {
   "cell_type": "markdown",
   "metadata": {},
   "source": [
    "Say you had a 100 dollars to invest and you were to split that equally between these 5 etfs. How will your money be divvied up between the companies within that combined portfolio (hint: use merge in combining datasets). \n",
    "\n",
    "- What portion of your money will go to the top 50 companies?\n",
    "- What portion to the next 450 companies?\n",
    "- And what to the remaining set of companies?\n",
    "\n",
    "Visualizations come in handy but are not necessary. Be as creative as possible. There might be overlap in holdings between etfs and you might have to use regular expressions to clean some things out to match holdings."
   ]
  },
  {
   "cell_type": "markdown",
   "metadata": {},
   "source": [
    "### Answer"
   ]
  },
  {
   "cell_type": "markdown",
   "metadata": {},
   "source": [
    "Now, answer the questions:\n",
    "\n",
    "#### What portion of your money will go to the top 50 companies?\n",
    "This is the sum of total market value for the holdings with the 50 largest market values."
   ]
  },
  {
   "cell_type": "code",
   "execution_count": 15,
   "metadata": {},
   "outputs": [
    {
     "data": {
      "text/plain": [
       "17.042697733259256"
      ]
     },
     "execution_count": 15,
     "metadata": {},
     "output_type": "execute_result"
    }
   ],
   "source": [
    "portfolio.total_mv[portfolio.holding_type == 'Large'].sum()"
   ]
  },
  {
   "cell_type": "markdown",
   "metadata": {},
   "source": [
    "#### What portion to the next 450 companies?\n",
    "This is the sum of total market value of the 51th through 450th largest market values."
   ]
  },
  {
   "cell_type": "code",
   "execution_count": 16,
   "metadata": {},
   "outputs": [
    {
     "data": {
      "text/plain": [
       "37.93887674609152"
      ]
     },
     "execution_count": 16,
     "metadata": {},
     "output_type": "execute_result"
    }
   ],
   "source": [
    "portfolio.total_mv[portfolio.holding_type == 'Mid-Size'].sum()"
   ]
  },
  {
   "cell_type": "markdown",
   "metadata": {},
   "source": [
    "#### And what to the remaining set of companies?"
   ]
  },
  {
   "cell_type": "markdown",
   "metadata": {},
   "source": [
    "This is the sum of total market value of all the holdings smaller the 450th."
   ]
  },
  {
   "cell_type": "code",
   "execution_count": 17,
   "metadata": {},
   "outputs": [
    {
     "data": {
      "text/plain": [
       "45.01842552064922"
      ]
     },
     "execution_count": 17,
     "metadata": {},
     "output_type": "execute_result"
    }
   ],
   "source": [
    "portfolio.total_mv[portfolio.holding_type == 'Small'].sum()"
   ]
  },
  {
   "cell_type": "markdown",
   "metadata": {},
   "source": [
    "### Question"
   ]
  },
  {
   "cell_type": "markdown",
   "metadata": {},
   "source": [
    "Try some other proportions out in how you will divvy up your portfolio to get broader exposure to more mid and small size companies. Provide your best allocation and state the reasons why. This is a more open-ended question so be as creative as possible."
   ]
  },
  {
   "cell_type": "markdown",
   "metadata": {},
   "source": [
    "### Answer"
   ]
  },
  {
   "cell_type": "code",
   "execution_count": 18,
   "metadata": {},
   "outputs": [],
   "source": [
    "import seaborn as sns\n",
    "import matplotlib.pyplot as plt"
   ]
  },
  {
   "cell_type": "code",
   "execution_count": 19,
   "metadata": {},
   "outputs": [
    {
     "data": {
      "text/plain": [
       "Text(0.5, 0, 'Portfolio Holdings')"
      ]
     },
     "execution_count": 19,
     "metadata": {},
     "output_type": "execute_result"
    },
    {
     "data": {
      "image/png": "[encoded data removed]",
      "text/plain": [
       "<Figure size 432x288 with 1 Axes>"
      ]
     },
     "metadata": {
      "needs_background": "light"
     },
     "output_type": "display_data"
    }
   ],
   "source": [
    "for x in portfolio.holding_type.unique():\n",
    "    temp = portfolio[portfolio.holding_type == x].total_mv.sort_values(ascending=False)\n",
    "    plt.plot(range(len(temp)), temp, label=x)\n",
    "plt.legend()\n",
    "plt.title('Holding Size Distribution for Equal ETF Purchases')\n",
    "plt.ylabel('% of Portfolio')\n",
    "plt.xlabel('Portfolio Holdings')"
   ]
  },
  {
   "cell_type": "markdown",
   "metadata": {},
   "source": [
    "As the above figure shows, when the investment is distributed equally between the ETFs, the result is that the Large holdings greatly out-weigh the Mid-Size and Small holdngs.  It appears that the funds need to be redistributed to purchase more Mid-Size and Small holdings.\n",
    "\n",
    "This figure also shows that the large number of Small holdings squeezes the Large and Mid-Size holdings to the far left.  It is worth plotting the x-scale on a log-scale to offset this effect.\n",
    "\n",
    "So let's look at how each ETF is distributed between holding types."
   ]
  },
  {
   "cell_type": "code",
   "execution_count": 20,
   "metadata": {},
   "outputs": [
    {
     "data": {
      "image/png": "[encoded data removed]",
      "text/plain": [
       "<Figure size 432x288 with 1 Axes>"
      ]
     },
     "metadata": {
      "needs_background": "light"
     },
     "output_type": "display_data"
    },
    {
     "data": {
      "image/png": "[encoded data removed]",
      "text/plain": [
       "<Figure size 432x288 with 1 Axes>"
      ]
     },
     "metadata": {
      "needs_background": "light"
     },
     "output_type": "display_data"
    },
    {
     "data": {
      "image/png": "[encoded data removed]",
      "text/plain": [
       "<Figure size 432x288 with 1 Axes>"
      ]
     },
     "metadata": {
      "needs_background": "light"
     },
     "output_type": "display_data"
    },
    {
     "data": {
      "image/png": "[encoded data removed]",
      "text/plain": [
       "<Figure size 432x288 with 1 Axes>"
      ]
     },
     "metadata": {
      "needs_background": "light"
     },
     "output_type": "display_data"
    },
    {
     "data": {
      "image/png": "[encoded data removed]",
      "text/plain": [
       "<Figure size 432x288 with 1 Axes>"
      ]
     },
     "metadata": {
      "needs_background": "light"
     },
     "output_type": "display_data"
    }
   ],
   "source": [
    "for col in portfolio.columns[6:11]:\n",
    "    plt.figure()\n",
    "    for x in portfolio.holding_type.unique():\n",
    "        temp = portfolio[portfolio.holding_type == x][col].sort_values(ascending=False)\n",
    "        plt.plot(range(len(temp)), temp, label=x)\n",
    "    plt.legend()\n",
    "    plt.title('Holding Size Distribution for ' + col.split('_')[1].upper())\n",
    "    plt.ylabel('% of Portfolio')\n",
    "    plt.xlabel('Portfolio Holdings')\n",
    "    plt.xscale('log')"
   ]
  },
  {
   "cell_type": "markdown",
   "metadata": {},
   "source": [
    "We see that to get a significant amount of Small and Mid-Size companies, VB is needed.  While VOO holds nearly entirely Large companies.\n",
    "\n",
    "The code below is used to study different distribution of ETF investments.  The ETFs selected do not allow for Small holdings to get on equal footing with Large and Mid-Size, because when these ETFs increase Small holdings, they also increase Mid-Size.\n",
    "\n",
    "After playing around a little with the fund purchase amounts, I found that putting $92 in VB and $8 in VOO will result in nearly the same percentages invested in Large and Mid-Size companies."
   ]
  },
  {
   "cell_type": "code",
   "execution_count": 21,
   "metadata": {},
   "outputs": [],
   "source": [
    "portfolio.insert(loc=12,column='my_mv',value=[0.]*len(portfolio))"
   ]
  },
  {
   "cell_type": "code",
   "execution_count": 22,
   "metadata": {},
   "outputs": [
    {
     "data": {
      "image/png": "[encoded data removed]",
      "text/plain": [
       "<Figure size 720x360 with 1 Axes>"
      ]
     },
     "metadata": {
      "needs_background": "light"
     },
     "output_type": "display_data"
    }
   ],
   "source": [
    "fund_purchase = [0., 0., 92., 8., 0.]\n",
    "pct_columns   = portfolio.columns[6:11]\n",
    "\n",
    "portfolio.my_mv = calc_mv(portfolio, fund_purchase, pct_columns)\n",
    "\n",
    "plt.figure(figsize=(10,5))\n",
    "for x in portfolio.holding_type.unique():\n",
    "    temp = portfolio[portfolio.holding_type == x].my_mv.sort_values(ascending=False)\n",
    "    plt.plot(range(len(temp)), temp, 'o-', label=x)\n",
    "plt.legend()\n",
    "plt.title('Holding Size Distribution for My Distribution')\n",
    "plt.ylabel('% of Portfolio')\n",
    "plt.xlabel('Portfolio Holdings')\n",
    "plt.xscale('log')"
   ]
  }
 ],
 "metadata": {
  "kernelspec": {
   "display_name": "Python 3",
   "language": "python",
   "name": "python3"
  },
  "language_info": {
   "codemirror_mode": {
    "name": "ipython",
    "version": 3
   },
   "file_extension": ".py",
   "mimetype": "text/x-python",
   "name": "python",
   "nbconvert_exporter": "python",
   "pygments_lexer": "ipython3",
   "version": "3.7.6"
  }
 },
 "nbformat": 4,
 "nbformat_minor": 4
}
