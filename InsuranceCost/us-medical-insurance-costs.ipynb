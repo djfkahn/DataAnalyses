{
 "cells": [
  {
   "cell_type": "markdown",
   "metadata": {},
   "source": [
    "# U.S. Medical Insurance Costs"
   ]
  },
  {
   "cell_type": "markdown",
   "metadata": {},
   "source": [
    "## Project Goals\n",
    "Determine which factor in the insurance data file provided ('insurance.csv') contributes the most to insurance cost.  Factors included are age, sex, BMI, number of children, smoker, and region.  \n",
    "\n",
    "To estimate how much each factor contributes to the overall cost, the data will be grouped by each factor and the average insurance cost in each group will be calculated.  Where data are collected into more than two ordered groups (i.e. age, BMI, and number of children), linear regression will be used to etimate the cost contribution.  Where data is grouped by unordered value (i.e. sex, smoker, and region), average costs will be compared."
   ]
  },
  {
   "cell_type": "markdown",
   "metadata": {},
   "source": [
    "## Import Data"
   ]
  },
  {
   "cell_type": "code",
   "execution_count": 98,
   "metadata": {},
   "outputs": [],
   "source": [
    "import csv\n",
    "from decimal import Decimal"
   ]
  },
  {
   "cell_type": "code",
   "execution_count": 72,
   "metadata": {},
   "outputs": [],
   "source": [
    "insurance_data = []\n",
    "with open('/Users/djfkahn/Downloads/python-portfolio-project-starter-files/insurance.csv') as data_file:\n",
    "    data_dict = csv.DictReader(data_file)\n",
    "    for row in data_dict:\n",
    "        insurance_data.append(row)"
   ]
  },
  {
   "cell_type": "code",
   "execution_count": 73,
   "metadata": {},
   "outputs": [
    {
     "name": "stdout",
     "output_type": "stream",
     "text": [
      "OrderedDict([('age', '19'), ('sex', 'female'), ('bmi', '27.9'), ('children', '0'), ('smoker', 'yes'), ('region', 'southwest'), ('charges', '16884.924')])\n"
     ]
    }
   ],
   "source": [
    "print(insurance_data[0])"
   ]
  },
  {
   "cell_type": "markdown",
   "metadata": {},
   "source": [
    "## Organize Data\n",
    "Group the insurance costs by each of the factors."
   ]
  },
  {
   "cell_type": "code",
   "execution_count": 74,
   "metadata": {},
   "outputs": [],
   "source": [
    "def group_costs(insurance_data, factor):\n",
    "    result = {}\n",
    "    for record in insurance_data:\n",
    "        if result.get(record[factor], None) is None:\n",
    "            result[record[factor]] = [float(record['charges'])]\n",
    "        else:\n",
    "            result[record[factor]].append(float(record['charges']))\n",
    "\n",
    "    sorted_result = {}\n",
    "    for key in sorted(result.keys()):\n",
    "        sorted_result[key] = result[key]\n",
    "    return sorted_result"
   ]
  },
  {
   "cell_type": "code",
   "execution_count": 75,
   "metadata": {},
   "outputs": [],
   "source": [
    "cost_by_age = group_costs(insurance_data, 'age')"
   ]
  },
  {
   "cell_type": "code",
   "execution_count": 76,
   "metadata": {},
   "outputs": [],
   "source": [
    "cost_by_sex = group_costs(insurance_data, 'sex')"
   ]
  },
  {
   "cell_type": "code",
   "execution_count": 77,
   "metadata": {},
   "outputs": [],
   "source": [
    "cost_by_children = group_costs(insurance_data, 'children')"
   ]
  },
  {
   "cell_type": "code",
   "execution_count": 78,
   "metadata": {},
   "outputs": [],
   "source": [
    "cost_by_smoker = group_costs(insurance_data, 'smoker')"
   ]
  },
  {
   "cell_type": "code",
   "execution_count": 79,
   "metadata": {},
   "outputs": [],
   "source": [
    "cost_by_region = group_costs(insurance_data, 'region')"
   ]
  },
  {
   "cell_type": "markdown",
   "metadata": {},
   "source": [
    "BMI data is continuous, so set up tiers based on data from https://www.nhlbi.nih.gov/health/educational/lose_wt/BMI/bmi_dis.htm.\n",
    "\n",
    "|Clasification|BMI Range |\n",
    "|---|---|\n",
    "|Underweight|< 18.5|\n",
    "|Normal|18.5–24.9|\n",
    "|Overweight|25.0–29.9|\n",
    "|Obesity I|30.0–34.9|\n",
    "|Obesity II |35.0–39.9|\n",
    "|Extreme Obesity|40.0 +|"
   ]
  },
  {
   "cell_type": "code",
   "execution_count": 80,
   "metadata": {},
   "outputs": [],
   "source": [
    "# Define the BMI tiers\n",
    "bmi_tier_upper_limits = {1 : 18.5,\n",
    "                         2 : 25.0,\n",
    "                         3 : 30.0,\n",
    "                         4 : 35.0,\n",
    "                         5 : 40.0,\n",
    "                         6 : 100.}"
   ]
  },
  {
   "cell_type": "code",
   "execution_count": 81,
   "metadata": {},
   "outputs": [],
   "source": [
    "# Add tiers to the insurance data\n",
    "for record in insurance_data:\n",
    "    tier = 1\n",
    "    while float(record['bmi']) > bmi_tier_upper_limits[tier] and tier < 5:\n",
    "        tier += 1\n",
    "    record['bmi_tier'] =  tier"
   ]
  },
  {
   "cell_type": "code",
   "execution_count": 82,
   "metadata": {},
   "outputs": [],
   "source": [
    "cost_by_bmi = group_costs(insurance_data, 'bmi_tier')"
   ]
  },
  {
   "cell_type": "markdown",
   "metadata": {},
   "source": [
    "## Analyze Data\n",
    "For each cohort of data, compute the average."
   ]
  },
  {
   "cell_type": "code",
   "execution_count": 83,
   "metadata": {},
   "outputs": [],
   "source": [
    "def compute_averages(costs):\n",
    "    result = {}\n",
    "    for key, values in costs.items():\n",
    "        total = 0.\n",
    "        for value in values:\n",
    "            total += value\n",
    "        average = total / len(values)\n",
    "        result[key] = average\n",
    "    return result"
   ]
  },
  {
   "cell_type": "code",
   "execution_count": 84,
   "metadata": {},
   "outputs": [],
   "source": [
    "avg_by_age = compute_averages(cost_by_age)"
   ]
  },
  {
   "cell_type": "code",
   "execution_count": 85,
   "metadata": {},
   "outputs": [],
   "source": [
    "avg_by_sex = compute_averages(cost_by_sex)"
   ]
  },
  {
   "cell_type": "code",
   "execution_count": 86,
   "metadata": {},
   "outputs": [],
   "source": [
    "avg_by_children = compute_averages(cost_by_children)"
   ]
  },
  {
   "cell_type": "code",
   "execution_count": 87,
   "metadata": {},
   "outputs": [],
   "source": [
    "avg_by_smoker = compute_averages(cost_by_smoker)"
   ]
  },
  {
   "cell_type": "code",
   "execution_count": 88,
   "metadata": {},
   "outputs": [],
   "source": [
    "avg_by_region = compute_averages(cost_by_region)"
   ]
  },
  {
   "cell_type": "code",
   "execution_count": 89,
   "metadata": {},
   "outputs": [],
   "source": [
    "avg_by_bmi = compute_averages(cost_by_bmi)"
   ]
  },
  {
   "cell_type": "markdown",
   "metadata": {},
   "source": [
    "### Ordered Categories\n",
    "Perform a linear regression to find the slope of the best fit line through the groups to indicate the affect of the factor on the average insurance cost."
   ]
  },
  {
   "cell_type": "code",
   "execution_count": 114,
   "metadata": {},
   "outputs": [],
   "source": [
    "def compute_slope(data):\n",
    "    sum_x = 0.\n",
    "    sum_y = 0.\n",
    "    for x, y in data.items():\n",
    "        sum_x += float(x)\n",
    "        sum_y += y\n",
    "    mean_x = sum_x / len(data)\n",
    "    mean_y = sum_y / len(data)\n",
    "    \n",
    "    sum_num = 0.\n",
    "    sum_den = 0.\n",
    "    for x, y in data.items():\n",
    "        sum_num += ((float(x) - mean_x) * (y - mean_y))\n",
    "        sum_den += ((float(x) - mean_x) ** 2)\n",
    "\n",
    "    return sum_num / sum_den\n",
    "# B1 = sum((x(i) - mean(x)) * (y(i) - mean(y))) / sum( (x(i) - mean(x))^2 )"
   ]
  },
  {
   "cell_type": "code",
   "execution_count": 115,
   "metadata": {},
   "outputs": [],
   "source": [
    "slope_age = compute_slope(avg_by_age)"
   ]
  },
  {
   "cell_type": "code",
   "execution_count": 117,
   "metadata": {},
   "outputs": [],
   "source": [
    "slope_children = compute_slope(avg_by_children)"
   ]
  },
  {
   "cell_type": "code",
   "execution_count": 118,
   "metadata": {},
   "outputs": [],
   "source": [
    "slope_bmi = compute_slope(avg_by_bmi)"
   ]
  },
  {
   "cell_type": "markdown",
   "metadata": {},
   "source": [
    "### Non-Ordered Categories\n",
    "Compare average insurance cost for the factor's categories."
   ]
  },
  {
   "cell_type": "code",
   "execution_count": 104,
   "metadata": {},
   "outputs": [],
   "source": [
    "contribution_of_sex = avg_by_sex['male'] - avg_by_sex['female']\n",
    "if contribution_of_sex > 0. :\n",
    "    comparison_for_sex = \"more\"\n",
    "else:\n",
    "    comparison_for_sex = \"less\""
   ]
  },
  {
   "cell_type": "code",
   "execution_count": 106,
   "metadata": {},
   "outputs": [],
   "source": [
    "contribution_of_smoker = avg_by_smoker['yes'] - avg_by_smoker['no']\n",
    "if contribution_of_smoker > 0. :\n",
    "    comparison_for_smoker = \"more\"\n",
    "else:\n",
    "    comparison_for_smoker = \"less\""
   ]
  },
  {
   "cell_type": "markdown",
   "metadata": {},
   "source": [
    "## Results"
   ]
  },
  {
   "cell_type": "code",
   "execution_count": 123,
   "metadata": {},
   "outputs": [
    {
     "name": "stdout",
     "output_type": "stream",
     "text": [
      "Insurance cost rises $264.83 for every year of age.\n",
      "Insurance cost drops $407.41 for every additional child.\n",
      "Insurance cost rises $2058.64 for successive BMI tier.\n",
      "Insurance for males costs $1387.17 more than for females.\n",
      "Insurance for a smoker costs $23615.96 more than for non-smoker.\n"
     ]
    }
   ],
   "source": [
    "print(\"Insurance cost {Change} ${Slope:.2f} for every year of age.\".format(Change=('rises' if slope_age >= 0 else 'drops'), Slope=slope_age))\n",
    "print(\"Insurance cost {Change} ${Slope:.2f} for every additional child.\".format(Change=('rises' if slope_children >= 0 else 'drops'), Slope=abs(slope_children)))\n",
    "print(\"Insurance cost {Change} ${Slope:.2f} for successive BMI tier.\".format(Change=('rises' if slope_bmi >= 0 else 'drops'), Slope=slope_bmi))\n",
    "\n",
    "print(\"Insurance for males costs ${Diff:.2f} {Comp} than for females.\".format(Diff=contribution_of_sex, Comp=comparison_for_sex))\n",
    "print(\"Insurance for a smoker costs ${Diff:.2f} {Comp} than for non-smoker.\".format(Diff=contribution_of_smoker, Comp=comparison_for_smoker))\n"
   ]
  },
  {
   "cell_type": "code",
   "execution_count": null,
   "metadata": {},
   "outputs": [],
   "source": []
  }
 ],
 "metadata": {
  "kernelspec": {
   "display_name": "Python 3",
   "language": "python",
   "name": "python3"
  },
  "language_info": {
   "codemirror_mode": {
    "name": "ipython",
    "version": 3
   },
   "file_extension": ".py",
   "mimetype": "text/x-python",
   "name": "python",
   "nbconvert_exporter": "python",
   "pygments_lexer": "ipython3",
   "version": "3.7.6"
  }
 },
 "nbformat": 4,
 "nbformat_minor": 4
}
